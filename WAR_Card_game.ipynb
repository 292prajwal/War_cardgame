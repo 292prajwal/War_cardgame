{
 "cells": [
  {
   "cell_type": "code",
   "execution_count": 1,
   "id": "3d3dd6c7",
   "metadata": {},
   "outputs": [],
   "source": [
    "#CARD CLASS\n",
    "#Suit , Rank , Value\n",
    "\n",
    "#DECK CLASS\n",
    "\n",
    "#PLAYER\n",
    "\n",
    "import random\n",
    "\n",
    "suits = ('Hearts', 'Diamonds', 'Spades', 'Clubs')\n",
    "ranks = ('Two', 'Three', 'Four', 'Five', 'Six', 'Seven', 'Eight', 'Nine', 'Ten', 'Jack', 'Queen', 'King', 'Ace')\n",
    "values = {'Two':2, 'Three':3, 'Four':4, 'Five':5, 'Six':6, 'Seven':7, 'Eight':8, \n",
    "            'Nine':9, 'Ten':10, 'Jack':11, 'Queen':12, 'King':13, 'Ace':14}"
   ]
  },
  {
   "cell_type": "code",
   "execution_count": 2,
   "id": "a59f063f",
   "metadata": {},
   "outputs": [],
   "source": [
    "#CARD CLASS\n",
    "\n",
    "class Card:\n",
    "    \n",
    "    def __init__(self,suit,rank):\n",
    "        self.suit = suit\n",
    "        self.rank = rank\n",
    "        self.value = values[rank]\n",
    "        \n",
    "    def __str__(self):\n",
    "        return self.rank + ' of ' + self.suit"
   ]
  },
  {
   "cell_type": "code",
   "execution_count": 3,
   "id": "c8ce2517",
   "metadata": {},
   "outputs": [],
   "source": [
    "#three_clubs = Card(\"Clubs\",\"Three\")"
   ]
  },
  {
   "cell_type": "code",
   "execution_count": 4,
   "id": "5e7f2856",
   "metadata": {},
   "outputs": [],
   "source": [
    "#three_clubs"
   ]
  },
  {
   "cell_type": "code",
   "execution_count": 5,
   "id": "ab7bcaf2",
   "metadata": {},
   "outputs": [],
   "source": [
    "#three_clubs.value"
   ]
  },
  {
   "cell_type": "code",
   "execution_count": 6,
   "id": "a380035b",
   "metadata": {},
   "outputs": [],
   "source": [
    "#two_hearts = Card(\"Hearts\",\"Two\")"
   ]
  },
  {
   "cell_type": "code",
   "execution_count": 7,
   "id": "5095d96b",
   "metadata": {},
   "outputs": [],
   "source": [
    "#two_hearts"
   ]
  },
  {
   "cell_type": "code",
   "execution_count": 8,
   "id": "4c7599f1",
   "metadata": {},
   "outputs": [],
   "source": [
    "#print(two_hearts)"
   ]
  },
  {
   "cell_type": "code",
   "execution_count": null,
   "id": "ec21319b",
   "metadata": {},
   "outputs": [],
   "source": []
  },
  {
   "cell_type": "code",
   "execution_count": 9,
   "id": "25291111",
   "metadata": {},
   "outputs": [],
   "source": [
    "#values[two_hearts.rank]"
   ]
  },
  {
   "cell_type": "code",
   "execution_count": 10,
   "id": "ffce5df2",
   "metadata": {},
   "outputs": [],
   "source": [
    "#two_hearts.value < three_clubs.value"
   ]
  },
  {
   "cell_type": "code",
   "execution_count": null,
   "id": "d55cd343",
   "metadata": {},
   "outputs": [],
   "source": []
  },
  {
   "cell_type": "code",
   "execution_count": 11,
   "id": "4e5fc611",
   "metadata": {},
   "outputs": [],
   "source": [
    "#DECK Class\n",
    "\n",
    "class Deck:\n",
    "    \n",
    "    def __init__(self):\n",
    "        \n",
    "        self.all_cards = []\n",
    "        \n",
    "        for suit in suits:\n",
    "            for rank in ranks:\n",
    "                \n",
    "                #Create the card object\n",
    "                created_card = Card(suit,rank)\n",
    "                \n",
    "                self.all_cards.append(created_card)\n",
    "                \n",
    "                \n",
    "    def shuffle(self):\n",
    "        \n",
    "        random.shuffle(self.all_cards)\n",
    "        \n",
    "    def deal_one(self):\n",
    "        \n",
    "        return self.all_cards.pop()"
   ]
  },
  {
   "cell_type": "code",
   "execution_count": 12,
   "id": "26c54ec2",
   "metadata": {},
   "outputs": [],
   "source": [
    "#new_deck = Deck()"
   ]
  },
  {
   "cell_type": "code",
   "execution_count": 13,
   "id": "2211d512",
   "metadata": {},
   "outputs": [],
   "source": [
    "#new_deck.shuffle()"
   ]
  },
  {
   "cell_type": "raw",
   "id": "928edba0",
   "metadata": {},
   "source": []
  },
  {
   "cell_type": "code",
   "execution_count": 14,
   "id": "9589bf04",
   "metadata": {},
   "outputs": [],
   "source": [
    "#mycard = new_deck.deal_one()"
   ]
  },
  {
   "cell_type": "code",
   "execution_count": 15,
   "id": "03409b73",
   "metadata": {},
   "outputs": [],
   "source": [
    "#print(mycard)"
   ]
  },
  {
   "cell_type": "code",
   "execution_count": 16,
   "id": "5d36327b",
   "metadata": {},
   "outputs": [],
   "source": [
    "#len(new_deck.all_cards)"
   ]
  },
  {
   "cell_type": "code",
   "execution_count": null,
   "id": "256a0149",
   "metadata": {},
   "outputs": [],
   "source": []
  },
  {
   "cell_type": "code",
   "execution_count": 17,
   "id": "105d384a",
   "metadata": {},
   "outputs": [],
   "source": [
    "#first_card = new_deck.all_cards[0]"
   ]
  },
  {
   "cell_type": "code",
   "execution_count": 18,
   "id": "f884d96f",
   "metadata": {},
   "outputs": [],
   "source": [
    "#print(first_card)"
   ]
  },
  {
   "cell_type": "code",
   "execution_count": 19,
   "id": "f2e4d3ae",
   "metadata": {},
   "outputs": [],
   "source": [
    "#new_deck.shuffle()"
   ]
  },
  {
   "cell_type": "code",
   "execution_count": 20,
   "id": "b036ee97",
   "metadata": {},
   "outputs": [],
   "source": [
    "#print(new_deck.all_cards[-1])"
   ]
  },
  {
   "cell_type": "code",
   "execution_count": null,
   "id": "0e05475d",
   "metadata": {},
   "outputs": [],
   "source": []
  },
  {
   "cell_type": "code",
   "execution_count": null,
   "id": "d96d2c78",
   "metadata": {},
   "outputs": [],
   "source": []
  },
  {
   "cell_type": "code",
   "execution_count": null,
   "id": "e3cad3a4",
   "metadata": {},
   "outputs": [],
   "source": []
  },
  {
   "cell_type": "code",
   "execution_count": null,
   "id": "e23d9432",
   "metadata": {},
   "outputs": [],
   "source": []
  },
  {
   "cell_type": "code",
   "execution_count": null,
   "id": "af8ffa16",
   "metadata": {},
   "outputs": [],
   "source": []
  },
  {
   "cell_type": "code",
   "execution_count": 21,
   "id": "4afa0f93",
   "metadata": {},
   "outputs": [],
   "source": [
    "#PLAYER CLASS\n",
    "\n",
    "class Player:\n",
    "    \n",
    "    def __init__(self,name):\n",
    "        \n",
    "        self.name = name\n",
    "        self.all_cards = []\n",
    "        \n",
    "    def remove_one(self):\n",
    "        return self.all_cards.pop(0)\n",
    "    \n",
    "    def add_cards(self,new_cards):\n",
    "        if type(new_cards) == type([]):\n",
    "            self.all_cards.extend(new_cards)\n",
    "        else:\n",
    "            self.all_cards.append(new_cards)\n",
    "    \n",
    "    def __str__(self):\n",
    "        return f'Player {self.name} has {len(self.all_cards)} cards.'"
   ]
  },
  {
   "cell_type": "code",
   "execution_count": 22,
   "id": "581457fe",
   "metadata": {},
   "outputs": [],
   "source": [
    "#new_player = Player(\"Prajwal\")"
   ]
  },
  {
   "cell_type": "code",
   "execution_count": 23,
   "id": "ffa52f45",
   "metadata": {},
   "outputs": [],
   "source": [
    "#print(new_player)"
   ]
  },
  {
   "cell_type": "code",
   "execution_count": null,
   "id": "62fb00a1",
   "metadata": {},
   "outputs": [],
   "source": []
  },
  {
   "cell_type": "code",
   "execution_count": 24,
   "id": "152fef36",
   "metadata": {},
   "outputs": [],
   "source": [
    "#mycard = new_deck.deal_one()"
   ]
  },
  {
   "cell_type": "code",
   "execution_count": 25,
   "id": "0775ee90",
   "metadata": {},
   "outputs": [],
   "source": [
    "#print(mycard)"
   ]
  },
  {
   "cell_type": "code",
   "execution_count": 26,
   "id": "2a4261a9",
   "metadata": {},
   "outputs": [],
   "source": [
    "#new_player.add_cards(mycard)"
   ]
  },
  {
   "cell_type": "code",
   "execution_count": 27,
   "id": "2a06335b",
   "metadata": {},
   "outputs": [],
   "source": [
    "#print(new_player)"
   ]
  },
  {
   "cell_type": "code",
   "execution_count": 28,
   "id": "f49a3e1c",
   "metadata": {},
   "outputs": [],
   "source": [
    "#print(new_player.all_cards[0])"
   ]
  },
  {
   "cell_type": "code",
   "execution_count": 29,
   "id": "c1d1f22c",
   "metadata": {},
   "outputs": [],
   "source": [
    "#new_player.add_cards([mycard,mycard,mycard])"
   ]
  },
  {
   "cell_type": "code",
   "execution_count": 30,
   "id": "86c65ad1",
   "metadata": {},
   "outputs": [],
   "source": [
    "#print(new_player)"
   ]
  },
  {
   "cell_type": "code",
   "execution_count": 31,
   "id": "143d7932",
   "metadata": {},
   "outputs": [],
   "source": [
    "#new_player.remove_one()"
   ]
  },
  {
   "cell_type": "code",
   "execution_count": 32,
   "id": "d5005dfe",
   "metadata": {},
   "outputs": [],
   "source": [
    "#print(new_player)"
   ]
  },
  {
   "cell_type": "code",
   "execution_count": null,
   "id": "543bcda6",
   "metadata": {},
   "outputs": [],
   "source": []
  },
  {
   "cell_type": "code",
   "execution_count": 33,
   "id": "142c7084",
   "metadata": {},
   "outputs": [],
   "source": [
    "#GAME SETUP\n",
    "player_one = Player(\"One\")\n",
    "player_two = Player(\"Two\")\n",
    "\n",
    "new_deck = Deck()\n",
    "new_deck.shuffle()\n",
    "\n",
    "for x in range(26):\n",
    "    player_one.add_cards(new_deck.deal_one())\n",
    "    player_two.add_cards(new_deck.deal_one())"
   ]
  },
  {
   "cell_type": "code",
   "execution_count": 34,
   "id": "3fdaadca",
   "metadata": {},
   "outputs": [],
   "source": [
    "game_on = True"
   ]
  },
  {
   "cell_type": "code",
   "execution_count": 35,
   "id": "7b3c0063",
   "metadata": {},
   "outputs": [
    {
     "name": "stdout",
     "output_type": "stream",
     "text": [
      "Round 1\n",
      "Round 2\n",
      "Round 3\n",
      "Round 4\n",
      "Round 5\n",
      "Round 6\n",
      "Round 7\n",
      "WAR!\n",
      "Round 8\n",
      "Round 9\n",
      "Round 10\n",
      "Round 11\n",
      "Round 12\n",
      "Round 13\n",
      "Round 14\n",
      "Round 15\n",
      "Round 16\n",
      "Round 17\n",
      "Round 18\n",
      "Round 19\n",
      "Round 20\n",
      "WAR!\n",
      "Round 21\n",
      "Round 22\n",
      "Round 23\n",
      "Round 24\n",
      "Round 25\n",
      "Round 26\n",
      "Round 27\n",
      "Round 28\n",
      "Round 29\n",
      "Round 30\n",
      "Round 31\n",
      "Round 32\n",
      "WAR!\n",
      "Round 33\n",
      "Round 34\n",
      "Round 35\n",
      "Round 36\n",
      "Round 37\n",
      "Round 38\n",
      "Round 39\n",
      "Round 40\n",
      "Round 41\n",
      "Round 42\n",
      "Round 43\n",
      "Round 44\n",
      "WAR!\n",
      "Round 45\n",
      "WAR!\n",
      "Round 46\n",
      "Round 47\n",
      "Round 48\n",
      "Round 49\n",
      "Round 50\n",
      "Round 51\n",
      "Round 52\n",
      "Round 53\n",
      "Round 54\n",
      "Round 55\n",
      "WAR!\n",
      "Round 56\n",
      "Round 57\n",
      "Round 58\n",
      "Round 59\n",
      "Round 60\n",
      "Round 61\n",
      "Round 62\n",
      "Round 63\n",
      "Round 64\n",
      "Round 65\n",
      "Round 66\n",
      "Round 67\n",
      "Round 68\n",
      "Round 69\n",
      "Round 70\n",
      "Round 71\n",
      "Round 72\n",
      "Round 73\n",
      "WAR!\n",
      "Round 74\n",
      "Round 75\n",
      "Round 76\n",
      "Round 77\n",
      "Round 78\n",
      "Round 79\n",
      "Round 80\n",
      "Round 81\n",
      "Round 82\n",
      "WAR!\n",
      "Round 83\n",
      "Round 84\n",
      "Round 85\n",
      "Round 86\n",
      "Round 87\n",
      "Round 88\n",
      "Round 89\n",
      "Round 90\n",
      "Round 91\n",
      "Round 92\n",
      "Round 93\n",
      "Round 94\n",
      "Round 95\n",
      "Round 96\n",
      "Round 97\n",
      "Round 98\n",
      "Round 99\n",
      "WAR!\n",
      "Round 100\n",
      "Round 101\n",
      "Round 102\n",
      "Round 103\n",
      "Round 104\n",
      "Round 105\n",
      "Round 106\n",
      "Round 107\n",
      "Round 108\n",
      "Round 109\n",
      "Round 110\n",
      "WAR!\n",
      "Player One unable to declare war\n",
      "Player Two wins\n"
     ]
    }
   ],
   "source": [
    "round_num = 0\n",
    "\n",
    "while game_on:\n",
    "    \n",
    "    round_num += 1\n",
    "    print(f\"Round {round_num}\")\n",
    "    \n",
    "    if len(player_one.all_cards)==0 :\n",
    "        print('Player One, out of cards! Player Two wins!')\n",
    "        game_on = False\n",
    "        break\n",
    "        \n",
    "    if len(player_two.all_cards)==0 :\n",
    "        print('Player Two, out of cards! Player One wins!')\n",
    "        game_on = False\n",
    "        break\n",
    "\n",
    "    #Start New Round\n",
    "    player_one_cards = []\n",
    "    player_one_cards.append(player_one.remove_one())\n",
    "    \n",
    "    player_two_cards = []\n",
    "    player_two_cards.append(player_two.remove_one())\n",
    "    \n",
    "    \n",
    "\n",
    "    #while at_war \n",
    "    at_war = True\n",
    "    \n",
    "    while at_war:\n",
    "        \n",
    "        if player_one_cards[-1].value > player_two_cards[-1].value:\n",
    "            player_one.add_cards(player_one_cards)\n",
    "            player_one.add_cards(player_two_cards)\n",
    "            \n",
    "            at_war = False\n",
    "            \n",
    "        elif player_one_cards[-1].value < player_two_cards[-1].value:\n",
    "            player_two.add_cards(player_one_cards)\n",
    "            player_two.add_cards(player_two_cards)\n",
    "            \n",
    "            at_war = False\n",
    "            \n",
    "        else:\n",
    "            print('WAR!')\n",
    "            \n",
    "            if len(player_one.all_cards) < 5:\n",
    "                print('Player One unable to declare war')\n",
    "                print('Player Two wins')\n",
    "                game_on = False\n",
    "                break\n",
    "                \n",
    "            elif len(player_two.all_cards) < 5:\n",
    "                print('Player Two unable to declare war')\n",
    "                print('Player One wins')\n",
    "                game_on = False\n",
    "                break\n",
    "                \n",
    "            else:\n",
    "                for num in range(5):\n",
    "                    player_one_cards.append(player_one.remove_one())\n",
    "                    player_two_cards.append(player_two.remove_one())\n",
    "        "
   ]
  },
  {
   "cell_type": "code",
   "execution_count": null,
   "id": "44c9053a",
   "metadata": {},
   "outputs": [],
   "source": []
  },
  {
   "cell_type": "code",
   "execution_count": null,
   "id": "b6df68bc",
   "metadata": {},
   "outputs": [],
   "source": []
  }
 ],
 "metadata": {
  "kernelspec": {
   "display_name": "Python 3 (ipykernel)",
   "language": "python",
   "name": "python3"
  },
  "language_info": {
   "codemirror_mode": {
    "name": "ipython",
    "version": 3
   },
   "file_extension": ".py",
   "mimetype": "text/x-python",
   "name": "python",
   "nbconvert_exporter": "python",
   "pygments_lexer": "ipython3",
   "version": "3.9.12"
  }
 },
 "nbformat": 4,
 "nbformat_minor": 5
}
